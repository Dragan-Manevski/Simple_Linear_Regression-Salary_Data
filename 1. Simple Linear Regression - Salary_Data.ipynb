{
 "cells": [
  {
   "cell_type": "markdown",
   "metadata": {},
   "source": [
    "### -------------------------------------------------------------------------------------------------------------------------------------------------------------------"
   ]
  },
  {
   "cell_type": "markdown",
   "metadata": {},
   "source": [
    "# Simple Linear Regression"
   ]
  },
  {
   "cell_type": "markdown",
   "metadata": {},
   "source": [
    "### -------------------------------------------------------------------------------------------------------------------------------------------------------------------"
   ]
  },
  {
   "cell_type": "markdown",
   "metadata": {},
   "source": [
    "### Linear Regression:\n",
    "- an **algorithm**:\n",
    "    - based on **Supervised Learning**\n",
    "    - where machines **learn with supevision**\n",
    "    - **input data are labeled** and **expected output data is known**\n",
    "    - used **to predict continuous (quantitative) numeric output value (y) based on given continuous (quantitative) numeric input variable(s) (x)**\n",
    "    - where using the **linear relationship between numeric dependent output variable (y) (target) and independent input variable(s) (x) (predictor(s))**, we try **to find the best fit line (equation)** that can be used to make predictions\n",
    "    - **best fit line** is known as **Regression line** and represented by a **linear equation**:\n",
    "                                        Y = a * X + b\n",
    "where,\n",
    "\n",
    "Y - dependent variable we are trying to predict\t\n",
    "X - independent variable we are using to make predictions\t\n",
    "a, b - coefficients of Linear Regression equation (line)\t\n",
    "a - slope, which represents the effect X has on Y\t\n",
    "b - intercept, which is a constant\n",
    "\n",
    "- **Regression analysis** is a **predictive modelling technique**\n",
    "\n",
    "\n",
    "### Тypes of Linear Regression based on the number of independent input variables (x):\n",
    "- **Simple Linear Regression** - linear relationship between a single independent input variable (x) and corresponding dependent output variable (y)\n",
    "- **Multiple Linear Regression** - linear relationship between 2 or more independent input variables (x) and corresponding output dependent variable (y)\n",
    "\n",
    "\n",
    "### Examples of Linear Regression problems: \t\t\t\t\t\t\n",
    "- House price\t\t\t\t\n",
    "- Weather forcast\t\t\t\t\n",
    "- Process optimization\n",
    "- Number of calls\n",
    "- Total sales"
   ]
  },
  {
   "cell_type": "markdown",
   "metadata": {},
   "source": [
    "### -------------------------------------------------------------------------------------------------------------------------------------------------------------------"
   ]
  },
  {
   "cell_type": "markdown",
   "metadata": {},
   "source": [
    "### Project Objective: Predicting salary of employee\n",
    "Create a model that allows to return back an estimate of the salary of an employee given how many years of experience they have. Information about the salaries is in the dataset 'Salary_Data.csv'.\n",
    "\n",
    "The Salary Data dataset contains the following columns:\n",
    "- **YearsExperience** - number of years of experience (independent variable)\n",
    "- **Salary** - respective salary of each employee (dependent variable)"
   ]
  },
  {
   "cell_type": "markdown",
   "metadata": {},
   "source": [
    "### -------------------------------------------------------------------------------------------------------------------------------------------------------------------"
   ]
  },
  {
   "cell_type": "markdown",
   "metadata": {},
   "source": [
    "## 1. Import the Libraries"
   ]
  },
  {
   "cell_type": "code",
   "execution_count": 1,
   "metadata": {},
   "outputs": [],
   "source": [
    "# Import Numpy, Pandas, Matplotlib and Seaborn libraries\n",
    "import numpy as np\n",
    "import pandas as pd\n",
    "import matplotlib.pyplot as plt\n",
    "import seaborn as sns\n",
    "%matplotlib inline"
   ]
  },
  {
   "cell_type": "markdown",
   "metadata": {},
   "source": [
    "## 2. Load the Data"
   ]
  },
  {
   "cell_type": "code",
   "execution_count": 2,
   "metadata": {},
   "outputs": [],
   "source": [
    "# Load the dataset (read from .csv file and set it to a Pandas DataFrame)\n",
    "salary_df = pd.read_csv('Salary_Data.csv')"
   ]
  },
  {
   "cell_type": "markdown",
   "metadata": {},
   "source": [
    "## 3. Exploratory Data Analysis"
   ]
  },
  {
   "cell_type": "markdown",
   "metadata": {},
   "source": [
    "- Study the dataset and describe the columns to understand the data\n",
    "- Aim is to gain intuition about the data, good understanding of the dataset, some notes for Data Cleaning, and possibly some ideas for Feature Engineering"
   ]
  },
  {
   "cell_type": "markdown",
   "metadata": {},
   "source": [
    "### 3.1 Check out the Data"
   ]
  },
  {
   "cell_type": "markdown",
   "metadata": {},
   "source": [
    "#### Insights we could draw from the data:\n",
    "1. To get to know the data\n",
    "2. Answer a set of basic questions about the dataset:\t\n",
    "    - How many observations do we have?\n",
    "\t- How many features?\n",
    "        - Which features are available in the dataset?\n",
    "\t- What are the data types of the features?\n",
    "        - Which features are numerical?\n",
    "        - Which features are categorical?\n",
    "        - Which features are mixed data types?\n",
    "\t- Do we have a target variable (label)?\n",
    "    - What is the distribution of numerical feature values across the samples?"
   ]
  },
  {
   "cell_type": "code",
   "execution_count": 3,
   "metadata": {},
   "outputs": [
    {
     "data": {
      "text/html": [
       "<div>\n",
       "<style scoped>\n",
       "    .dataframe tbody tr th:only-of-type {\n",
       "        vertical-align: middle;\n",
       "    }\n",
       "\n",
       "    .dataframe tbody tr th {\n",
       "        vertical-align: top;\n",
       "    }\n",
       "\n",
       "    .dataframe thead th {\n",
       "        text-align: right;\n",
       "    }\n",
       "</style>\n",
       "<table border=\"1\" class=\"dataframe\">\n",
       "  <thead>\n",
       "    <tr style=\"text-align: right;\">\n",
       "      <th></th>\n",
       "      <th>YearsExperience</th>\n",
       "      <th>Salary</th>\n",
       "    </tr>\n",
       "  </thead>\n",
       "  <tbody>\n",
       "    <tr>\n",
       "      <td>0</td>\n",
       "      <td>1.1</td>\n",
       "      <td>39343.0</td>\n",
       "    </tr>\n",
       "    <tr>\n",
       "      <td>1</td>\n",
       "      <td>1.3</td>\n",
       "      <td>46205.0</td>\n",
       "    </tr>\n",
       "    <tr>\n",
       "      <td>2</td>\n",
       "      <td>1.5</td>\n",
       "      <td>37731.0</td>\n",
       "    </tr>\n",
       "    <tr>\n",
       "      <td>3</td>\n",
       "      <td>2.0</td>\n",
       "      <td>43525.0</td>\n",
       "    </tr>\n",
       "    <tr>\n",
       "      <td>4</td>\n",
       "      <td>2.2</td>\n",
       "      <td>39891.0</td>\n",
       "    </tr>\n",
       "  </tbody>\n",
       "</table>\n",
       "</div>"
      ],
      "text/plain": [
       "   YearsExperience   Salary\n",
       "0              1.1  39343.0\n",
       "1              1.3  46205.0\n",
       "2              1.5  37731.0\n",
       "3              2.0  43525.0\n",
       "4              2.2  39891.0"
      ]
     },
     "execution_count": 3,
     "metadata": {},
     "output_type": "execute_result"
    }
   ],
   "source": [
    "# Display the few top rows of a DataFrame\n",
    "salary_df.head()"
   ]
  },
  {
   "cell_type": "code",
   "execution_count": 4,
   "metadata": {},
   "outputs": [
    {
     "data": {
      "text/plain": [
       "(30, 2)"
      ]
     },
     "execution_count": 4,
     "metadata": {},
     "output_type": "execute_result"
    }
   ],
   "source": [
    "# Shape of the dataset\n",
    "salary_df.shape"
   ]
  },
  {
   "cell_type": "code",
   "execution_count": 5,
   "metadata": {},
   "outputs": [
    {
     "data": {
      "text/plain": [
       "Index(['YearsExperience', 'Salary'], dtype='object')"
      ]
     },
     "execution_count": 5,
     "metadata": {},
     "output_type": "execute_result"
    }
   ],
   "source": [
    "# List of the column names\n",
    "salary_df.columns"
   ]
  },
  {
   "cell_type": "code",
   "execution_count": 6,
   "metadata": {},
   "outputs": [
    {
     "data": {
      "text/plain": [
       "Index(['YearsExperience', 'Salary'], dtype='object')"
      ]
     },
     "execution_count": 6,
     "metadata": {},
     "output_type": "execute_result"
    }
   ],
   "source": [
    "# List of all numerical columns\n",
    "salary_df.select_dtypes(include='number').columns"
   ]
  },
  {
   "cell_type": "code",
   "execution_count": 7,
   "metadata": {},
   "outputs": [
    {
     "data": {
      "text/plain": [
       "Index([], dtype='object')"
      ]
     },
     "execution_count": 7,
     "metadata": {},
     "output_type": "execute_result"
    }
   ],
   "source": [
    "# List of all non-numerical columns\n",
    "salary_df.select_dtypes(exclude='number').columns"
   ]
  },
  {
   "cell_type": "code",
   "execution_count": 8,
   "metadata": {},
   "outputs": [
    {
     "data": {
      "text/plain": [
       "YearsExperience    float64\n",
       "Salary             float64\n",
       "dtype: object"
      ]
     },
     "execution_count": 8,
     "metadata": {},
     "output_type": "execute_result"
    }
   ],
   "source": [
    "# Data type of each column in a DataFrame\n",
    "salary_df.dtypes"
   ]
  },
  {
   "cell_type": "code",
   "execution_count": 9,
   "metadata": {},
   "outputs": [
    {
     "name": "stdout",
     "output_type": "stream",
     "text": [
      "<class 'pandas.core.frame.DataFrame'>\n",
      "RangeIndex: 30 entries, 0 to 29\n",
      "Data columns (total 2 columns):\n",
      "YearsExperience    30 non-null float64\n",
      "Salary             30 non-null float64\n",
      "dtypes: float64(2)\n",
      "memory usage: 608.0 bytes\n"
     ]
    }
   ],
   "source": [
    "# Find out how many entries (rows and columns) there are, what type of objects are in the DataFrame (to observe if they have the correct type) etc.\n",
    "salary_df.info()"
   ]
  },
  {
   "cell_type": "code",
   "execution_count": 10,
   "metadata": {
    "scrolled": true
   },
   "outputs": [
    {
     "data": {
      "text/html": [
       "<div>\n",
       "<style scoped>\n",
       "    .dataframe tbody tr th:only-of-type {\n",
       "        vertical-align: middle;\n",
       "    }\n",
       "\n",
       "    .dataframe tbody tr th {\n",
       "        vertical-align: top;\n",
       "    }\n",
       "\n",
       "    .dataframe thead th {\n",
       "        text-align: right;\n",
       "    }\n",
       "</style>\n",
       "<table border=\"1\" class=\"dataframe\">\n",
       "  <thead>\n",
       "    <tr style=\"text-align: right;\">\n",
       "      <th></th>\n",
       "      <th>YearsExperience</th>\n",
       "      <th>Salary</th>\n",
       "    </tr>\n",
       "  </thead>\n",
       "  <tbody>\n",
       "    <tr>\n",
       "      <td>count</td>\n",
       "      <td>30.000000</td>\n",
       "      <td>30.000000</td>\n",
       "    </tr>\n",
       "    <tr>\n",
       "      <td>mean</td>\n",
       "      <td>5.313333</td>\n",
       "      <td>76003.000000</td>\n",
       "    </tr>\n",
       "    <tr>\n",
       "      <td>std</td>\n",
       "      <td>2.837888</td>\n",
       "      <td>27414.429785</td>\n",
       "    </tr>\n",
       "    <tr>\n",
       "      <td>min</td>\n",
       "      <td>1.100000</td>\n",
       "      <td>37731.000000</td>\n",
       "    </tr>\n",
       "    <tr>\n",
       "      <td>25%</td>\n",
       "      <td>3.200000</td>\n",
       "      <td>56720.750000</td>\n",
       "    </tr>\n",
       "    <tr>\n",
       "      <td>50%</td>\n",
       "      <td>4.700000</td>\n",
       "      <td>65237.000000</td>\n",
       "    </tr>\n",
       "    <tr>\n",
       "      <td>75%</td>\n",
       "      <td>7.700000</td>\n",
       "      <td>100544.750000</td>\n",
       "    </tr>\n",
       "    <tr>\n",
       "      <td>max</td>\n",
       "      <td>10.500000</td>\n",
       "      <td>122391.000000</td>\n",
       "    </tr>\n",
       "  </tbody>\n",
       "</table>\n",
       "</div>"
      ],
      "text/plain": [
       "       YearsExperience         Salary\n",
       "count        30.000000      30.000000\n",
       "mean          5.313333   76003.000000\n",
       "std           2.837888   27414.429785\n",
       "min           1.100000   37731.000000\n",
       "25%           3.200000   56720.750000\n",
       "50%           4.700000   65237.000000\n",
       "75%           7.700000  100544.750000\n",
       "max          10.500000  122391.000000"
      ]
     },
     "execution_count": 10,
     "metadata": {},
     "output_type": "execute_result"
    }
   ],
   "source": [
    "# Summarize the data to see the distribution of data (Statistical information of numerical columns)\n",
    "salary_df.describe()"
   ]
  },
  {
   "cell_type": "markdown",
   "metadata": {},
   "source": [
    "#### Conclusion:\n",
    "- The dataset contains 30 rows and 2 columns\n",
    "- Type of the data contained within each column, including the target variable (label), is float64, and therefore most likely a continuous variables, which means that predicting the target variable (label) is a Regression problem\n",
    "- No missing values in the dataset\n",
    "\n",
    "#### Conclusion:\n",
    "- 2 columns:\n",
    "    - 1 numeric / categorical predictive feature\n",
    "    - Salary (attribute 2) is the Target variable (label)\n",
    "\n",
    "\n",
    "#### Conclusion:\n",
    "- The dataset contains 891 rows and 12 columns\n",
    "    - Number of observations: 891\n",
    "    - Number of attributes: 11 predictor variables and 1 target variable\n",
    "        - **Predictor variables (features)** are 'PassengerId', 'Survived', 'Pclass', 'Name', 'Sex', 'Age', 'SibSp', 'Parch', 'Ticket', 'Fare', 'Cabin', 'Embarked'\n",
    "        - **Target variable (label)** is 'Survived'\n",
    "- Types of the data contained within columns are float64 (2 columns), int64 (5 columns) and object (5 columns)\n",
    "    - **Numerical variables (features)** are 'PassengerId', 'Survived', 'Pclass', 'Age', 'SibSp', 'Parch', 'Fare'\n",
    "    - **Non-numerical variables (features)** are 'Name', 'Sex', 'Ticket', 'Cabin', 'Embarked'\n",
    "- Data Variables types:\n",
    "    - **Numerical**\n",
    "        - Continous: 'Age', 'Fare'\n",
    "        - Discrete: 'SibSp', 'Parch'\n",
    "    - **Categorical**      \n",
    "        - Nominal: 'Survived', 'Sex', 'Embarked'\n",
    "        - Ordinal: 'Pclass'\n",
    "- 'Age' and 'Embarked' columns have only few missing values, whereas 'Cabin' column has so many missing values\n",
    "- So far, there are no feature(s) that is/are of no significance and cannot provide any insight into the dataset"
   ]
  },
  {
   "cell_type": "markdown",
   "metadata": {},
   "source": [
    "### 3.2 Data Visualization"
   ]
  },
  {
   "cell_type": "markdown",
   "metadata": {},
   "source": [
    "- Overall goal is to get an understanding for which variables are important, view summary statistics, and visualize the data\n",
    "- Understand the Data Variables type (Numerical or Categorical) in order to select the appropriate plots for visualization\n",
    "- **Types of plots**:\n",
    "    - Plot Categorical Distributions\n",
    "    - Plot Numerical Distributions\n",
    "    - Plot Correlations\n",
    "    - Plot Segmentations"
   ]
  },
  {
   "cell_type": "markdown",
   "metadata": {},
   "source": [
    "#### 3.2.1 Plot Correlations"
   ]
  },
  {
   "cell_type": "markdown",
   "metadata": {},
   "source": [
    "#### Insights we could draw from the charts:\n",
    "- Use Scatterplot, Heatmap, Barplot\n",
    "- Observe the relationships between label and numeric feature\n",
    "- Is the numeric feature positively or negatively correlated with the target variable (label)?\n",
    "- Is the numeric feature a perfect predictor of the target variable (label)?"
   ]
  },
  {
   "cell_type": "code",
   "execution_count": 11,
   "metadata": {},
   "outputs": [
    {
     "data": {
      "text/plain": [
       "Salary             1.000000\n",
       "YearsExperience    0.978242\n",
       "Name: Salary, dtype: float64"
      ]
     },
     "execution_count": 11,
     "metadata": {},
     "output_type": "execute_result"
    }
   ],
   "source": [
    "# Check the correlation between the target variable (label) and other feature\n",
    "salary_df.corr()['Salary'].sort_values(ascending=False)"
   ]
  },
  {
   "cell_type": "code",
   "execution_count": 12,
   "metadata": {},
   "outputs": [
    {
     "data": {
      "text/plain": [
       "<matplotlib.axes._subplots.AxesSubplot at 0x18104da7940>"
      ]
     },
     "execution_count": 12,
     "metadata": {},
     "output_type": "execute_result"
    },
    {
     "data": {
      "image/png": "[encoded data removed]",
      "text/plain": [
       "<Figure size 864x576 with 1 Axes>"
      ]
     },
     "metadata": {
      "needs_background": "light"
     },
     "output_type": "display_data"
    }
   ],
   "source": [
    "# Set up of the graphic area size\n",
    "plt.figure(figsize=(12, 8))\n",
    "\n",
    "# Display (plot) and explore correlations between highly correlated features with the target variable (label) through visualization\n",
    "sns.regplot(x='YearsExperience', y='Salary', data=salary_df, scatter_kws={'alpha': 0.4})"
   ]
  },
  {
   "cell_type": "markdown",
   "metadata": {},
   "source": [
    "#### Conclusion:\n",
    "\n",
    "- The line of best fit is calculated by minimizing the ordinary Least Squares Error function (automatically done by the Regplot function)\n",
    "- Shaded areas around the lines of best fit represent 95% confidence intervals\n",
    "- The salaries increase as the number of years of experience increases, but it doesn’t look to be following exactly a linear line"
   ]
  },
  {
   "cell_type": "markdown",
   "metadata": {},
   "source": [
    "## 4. Data Preprocessing and Feature Engineering"
   ]
  },
  {
   "cell_type": "markdown",
   "metadata": {},
   "source": [
    "#### Data Preprocessing and Feature Engineering by:\n",
    "- drop the columns (features) which are of no significance and cannot provide any insight into the dataset\n",
    "- check the missing values by columns (features) and rows (observations)\n",
    "- drop the columns (features) and rows (observations) with missing values\n",
    "- fill in the missing values in columns (features)\n",
    "- convert to a Dummy variable feature using One-hot coding\n",
    "- extracting the Date\n",
    "- remove erroneous values\n",
    "- redundant data\n",
    "- nullify the impact of outliers\n",
    "- etc."
   ]
  },
  {
   "cell_type": "markdown",
   "metadata": {},
   "source": [
    "### 4.1 Identify the variables"
   ]
  },
  {
   "cell_type": "markdown",
   "metadata": {},
   "source": [
    "Look at the columns of the dataset which can act as:\n",
    "- Predictor variables (features)\n",
    "- Target variable (label)"
   ]
  },
  {
   "cell_type": "code",
   "execution_count": 13,
   "metadata": {},
   "outputs": [
    {
     "data": {
      "text/plain": [
       "Index(['YearsExperience', 'Salary'], dtype='object')"
      ]
     },
     "execution_count": 13,
     "metadata": {},
     "output_type": "execute_result"
    }
   ],
   "source": [
    "# List of the column names\n",
    "salary_df.columns"
   ]
  },
  {
   "cell_type": "markdown",
   "metadata": {},
   "source": [
    "#### Conclusion:\n",
    "- **Predictor variable (feature)** is 'YearsExperience'\n",
    "- **Target variable (label)** is 'Salary'"
   ]
  },
  {
   "cell_type": "markdown",
   "metadata": {},
   "source": [
    "### 4.2 Dealing with Missing values"
   ]
  },
  {
   "cell_type": "code",
   "execution_count": 14,
   "metadata": {},
   "outputs": [
    {
     "data": {
      "text/plain": [
       "<matplotlib.axes._subplots.AxesSubplot at 0x1810fe6f400>"
      ]
     },
     "execution_count": 14,
     "metadata": {},
     "output_type": "execute_result"
    },
    {
     "data": {
      "image/png": "[encoded data removed]",
      "text/plain": [
       "<Figure size 864x576 with 1 Axes>"
      ]
     },
     "metadata": {
      "needs_background": "light"
     },
     "output_type": "display_data"
    }
   ],
   "source": [
    "# Set up of the graphic area size\n",
    "plt.figure(figsize=(12, 8))\n",
    "\n",
    "# Display (plot) the missing values\n",
    "sns.heatmap(data=salary_df.isnull(), yticklabels=False, cbar=False, cmap='viridis')"
   ]
  },
  {
   "cell_type": "code",
   "execution_count": 15,
   "metadata": {},
   "outputs": [
    {
     "data": {
      "text/plain": [
       "Salary             0\n",
       "YearsExperience    0\n",
       "dtype: int64"
      ]
     },
     "execution_count": 15,
     "metadata": {},
     "output_type": "execute_result"
    }
   ],
   "source": [
    "# Total count of missing (null) values for each column and sort them in ascending order\n",
    "salary_df.isnull().sum().sort_values(ascending=False)"
   ]
  },
  {
   "cell_type": "code",
   "execution_count": 16,
   "metadata": {},
   "outputs": [
    {
     "data": {
      "text/plain": [
       "Salary             0.0\n",
       "YearsExperience    0.0\n",
       "dtype: float64"
      ]
     },
     "execution_count": 16,
     "metadata": {},
     "output_type": "execute_result"
    }
   ],
   "source": [
    "# Total count of missing (null) values for each column in % of the total DataFrame and sort them in ascending order\n",
    "salary_df.isnull().mean().sort_values(ascending=False)*100"
   ]
  },
  {
   "cell_type": "markdown",
   "metadata": {},
   "source": [
    "#### Conclusion:\n",
    "\n",
    "- No missing values in the dataset"
   ]
  },
  {
   "cell_type": "markdown",
   "metadata": {},
   "source": [
    "### 4.3 Dealing with Outliers"
   ]
  },
  {
   "cell_type": "code",
   "execution_count": 17,
   "metadata": {},
   "outputs": [
    {
     "data": {
      "image/png": "[encoded data removed]",
      "text/plain": [
       "<Figure size 1440x720 with 2 Axes>"
      ]
     },
     "metadata": {
      "needs_background": "light"
     },
     "output_type": "display_data"
    }
   ],
   "source": [
    "# Display (plot) and explore the dataset to see trends / statistics\n",
    "fig, axs = plt.subplots(ncols=2, nrows=1, figsize=(20, 10))\n",
    "index = 0\n",
    "axs = axs.flatten()\n",
    "for k,v in salary_df.items():\n",
    "    sns.boxplot(y=k, data=salary_df, ax=axs[index])\n",
    "    index += 1\n",
    "plt.tight_layout(pad=0.4, w_pad=0.5, h_pad=5.0)"
   ]
  },
  {
   "cell_type": "markdown",
   "metadata": {},
   "source": [
    "#### Conclusion:\n",
    "\n",
    "- Columns seems do not have outliers"
   ]
  },
  {
   "cell_type": "code",
   "execution_count": 18,
   "metadata": {},
   "outputs": [
    {
     "name": "stdout",
     "output_type": "stream",
     "text": [
      "Column YearsExperience outliers = 0.00%\n",
      "Column Salary outliers = 0.00%\n"
     ]
    }
   ],
   "source": [
    "# Percentage of Outliers in columns\n",
    "for k, v in salary_df.items():\n",
    "        q1 = v.quantile(0.25)\n",
    "        q3 = v.quantile(0.75)\n",
    "        irq = q3 - q1\n",
    "        v_col = v[(v <= q1 - 1.5 * irq) | (v >= q3 + 1.5 * irq)]\n",
    "        perc = np.shape(v_col)[0] * 100.0 / np.shape(salary_df)[0]\n",
    "        print(\"Column %s outliers = %.2f%%\" % (k, perc))"
   ]
  },
  {
   "cell_type": "markdown",
   "metadata": {},
   "source": [
    "## 5. Train and Test the Linear Regresion model"
   ]
  },
  {
   "cell_type": "markdown",
   "metadata": {},
   "source": [
    "### 5.1 Split the columns"
   ]
  },
  {
   "cell_type": "markdown",
   "metadata": {},
   "source": [
    "- Separate features columns (X) from target variable (label) column (y)\n",
    "- Split columns into:\n",
    "    - X-array contains the features columns that we are going to train (only numerical columns)\n",
    "    - y-array contains the target variable (label) column (what we try to predict)"
   ]
  },
  {
   "cell_type": "code",
   "execution_count": 19,
   "metadata": {},
   "outputs": [
    {
     "data": {
      "text/plain": [
       "Index(['YearsExperience', 'Salary'], dtype='object')"
      ]
     },
     "execution_count": 19,
     "metadata": {},
     "output_type": "execute_result"
    }
   ],
   "source": [
    "# List of the column names\n",
    "salary_df.columns"
   ]
  },
  {
   "cell_type": "code",
   "execution_count": 20,
   "metadata": {},
   "outputs": [],
   "source": [
    "# X-array\n",
    "X = salary_df.drop('Salary', axis=1)\n",
    "\n",
    "# y-array\n",
    "y = salary_df['Salary']"
   ]
  },
  {
   "cell_type": "markdown",
   "metadata": {},
   "source": [
    "### 5.2 Split the data into Training dataset and Testing dataset"
   ]
  },
  {
   "cell_type": "markdown",
   "metadata": {},
   "source": [
    "- Training dataset is used to train out the model\n",
    "- Testing dataset is used to test (evaluate) the model once it is trained\n",
    "- Split the data into Training dataset and Testing dataset by Tuple unpacking\n",
    "    - test_size is the percentage of dataset that we want to be allocated to the test size (0.3 = 30%)\n",
    "    - random_state is specific set of random splits on data\n",
    "- Split the Salary Data dataset (30 observations) into:\n",
    "    - 70% Training data (21 observations)\n",
    "    - 30% Testing data (9 observations)"
   ]
  },
  {
   "cell_type": "code",
   "execution_count": 21,
   "metadata": {},
   "outputs": [],
   "source": [
    "# Import train_test_split function from sklearn.model_selection\n",
    "from sklearn.model_selection import train_test_split"
   ]
  },
  {
   "cell_type": "code",
   "execution_count": 22,
   "metadata": {},
   "outputs": [],
   "source": [
    "# Split the data into Training dataset and Testing dataset by Tuple unpacking\n",
    "X_train, X_test, y_train, y_test = train_test_split(X, y, test_size = 0.3, random_state = 101)"
   ]
  },
  {
   "cell_type": "code",
   "execution_count": 23,
   "metadata": {},
   "outputs": [
    {
     "name": "stdout",
     "output_type": "stream",
     "text": [
      "21  samples in Training dataset\n",
      " 9  samples in Testing dataset\n",
      "\n"
     ]
    }
   ],
   "source": [
    "print(len(X_train),' samples in Training dataset\\n',\n",
    "      len(X_test),' samples in Testing dataset\\n', )"
   ]
  },
  {
   "cell_type": "code",
   "execution_count": 24,
   "metadata": {},
   "outputs": [
    {
     "data": {
      "text/plain": [
       "(21, 1)"
      ]
     },
     "execution_count": 24,
     "metadata": {},
     "output_type": "execute_result"
    }
   ],
   "source": [
    "# Shape of X_train dataset\n",
    "X_train.shape"
   ]
  },
  {
   "cell_type": "code",
   "execution_count": 25,
   "metadata": {},
   "outputs": [
    {
     "data": {
      "text/plain": [
       "(21,)"
      ]
     },
     "execution_count": 25,
     "metadata": {},
     "output_type": "execute_result"
    }
   ],
   "source": [
    "# Shape of y_train dataset\n",
    "y_train.shape"
   ]
  },
  {
   "cell_type": "code",
   "execution_count": 26,
   "metadata": {},
   "outputs": [
    {
     "data": {
      "text/plain": [
       "(9, 1)"
      ]
     },
     "execution_count": 26,
     "metadata": {},
     "output_type": "execute_result"
    }
   ],
   "source": [
    "# Shape of X_test dataset\n",
    "X_test.shape"
   ]
  },
  {
   "cell_type": "code",
   "execution_count": 27,
   "metadata": {},
   "outputs": [
    {
     "data": {
      "text/plain": [
       "(9,)"
      ]
     },
     "execution_count": 27,
     "metadata": {},
     "output_type": "execute_result"
    }
   ],
   "source": [
    "# Shape of y_test dataset\n",
    "y_test.shape"
   ]
  },
  {
   "cell_type": "markdown",
   "metadata": {},
   "source": [
    "### 5.3 Create the Linear Regression model"
   ]
  },
  {
   "cell_type": "code",
   "execution_count": 28,
   "metadata": {},
   "outputs": [],
   "source": [
    "# Import the 'Linear Regression' model from family 'linear_model' of Scikit-Learn\n",
    "from sklearn.linear_model import LinearRegression"
   ]
  },
  {
   "cell_type": "code",
   "execution_count": 29,
   "metadata": {},
   "outputs": [],
   "source": [
    "# Instantiate the LinearRegression() model (Estimator) with parameters\n",
    "# Create an instance of class LinearRegression() model (Linear Regression object)\n",
    "lm = LinearRegression()"
   ]
  },
  {
   "cell_type": "markdown",
   "metadata": {},
   "source": [
    "### 5.4 Train / fit the Linear Regression model"
   ]
  },
  {
   "cell_type": "code",
   "execution_count": 30,
   "metadata": {},
   "outputs": [
    {
     "data": {
      "text/plain": [
       "LinearRegression(copy_X=True, fit_intercept=True, n_jobs=None, normalize=False)"
      ]
     },
     "execution_count": 30,
     "metadata": {},
     "output_type": "execute_result"
    }
   ],
   "source": [
    "# Train / fit the Linear Regression model on Training dataset\n",
    "lm.fit(X_train, y_train)"
   ]
  },
  {
   "cell_type": "markdown",
   "metadata": {},
   "source": [
    "### 5.5 Calculate the coefficients of Linear Regression equation"
   ]
  },
  {
   "cell_type": "markdown",
   "metadata": {},
   "source": [
    "#### Coefficients of Linear Regression equation (Y = a * X + b) are:\n",
    "- a - slope, which represents the effect X has on Y\n",
    "- b - intercept, which is a constant"
   ]
  },
  {
   "cell_type": "markdown",
   "metadata": {},
   "source": [
    "#### Intercept (b)"
   ]
  },
  {
   "cell_type": "code",
   "execution_count": 31,
   "metadata": {},
   "outputs": [
    {
     "name": "stdout",
     "output_type": "stream",
     "text": [
      "25975.81465954113\n"
     ]
    }
   ],
   "source": [
    "# Explore the intercept\n",
    "print(lm.intercept_)"
   ]
  },
  {
   "cell_type": "markdown",
   "metadata": {},
   "source": [
    "#### Slope (a)"
   ]
  },
  {
   "cell_type": "code",
   "execution_count": 32,
   "metadata": {},
   "outputs": [
    {
     "data": {
      "text/plain": [
       "array([9577.17174975])"
      ]
     },
     "execution_count": 32,
     "metadata": {},
     "output_type": "execute_result"
    }
   ],
   "source": [
    "# Check out the model's slopes that relate to each feature in the dataset\n",
    "lm.coef_"
   ]
  },
  {
   "cell_type": "code",
   "execution_count": 33,
   "metadata": {},
   "outputs": [
    {
     "data": {
      "text/html": [
       "<div>\n",
       "<style scoped>\n",
       "    .dataframe tbody tr th:only-of-type {\n",
       "        vertical-align: middle;\n",
       "    }\n",
       "\n",
       "    .dataframe tbody tr th {\n",
       "        vertical-align: top;\n",
       "    }\n",
       "\n",
       "    .dataframe thead th {\n",
       "        text-align: right;\n",
       "    }\n",
       "</style>\n",
       "<table border=\"1\" class=\"dataframe\">\n",
       "  <thead>\n",
       "    <tr style=\"text-align: right;\">\n",
       "      <th></th>\n",
       "      <th>Slopes</th>\n",
       "    </tr>\n",
       "  </thead>\n",
       "  <tbody>\n",
       "    <tr>\n",
       "      <td>YearsExperience</td>\n",
       "      <td>9577.17175</td>\n",
       "    </tr>\n",
       "  </tbody>\n",
       "</table>\n",
       "</div>"
      ],
      "text/plain": [
       "                     Slopes\n",
       "YearsExperience  9577.17175"
      ]
     },
     "execution_count": 33,
     "metadata": {},
     "output_type": "execute_result"
    }
   ],
   "source": [
    "# Format the model's slopes by creating DataFrame\n",
    "cdf = pd.DataFrame(data=lm.coef_, index=X.columns, columns=['Slopes'])\n",
    "cdf"
   ]
  },
  {
   "cell_type": "markdown",
   "metadata": {},
   "source": [
    "##### Conclusion:\n",
    "Interpreting the coefficients:\n",
    "- Holding all other features fixed, a 1 unit increase in YearsExperience is associated with an increase of 9577.17"
   ]
  },
  {
   "cell_type": "markdown",
   "metadata": {},
   "source": [
    "### 5.6 Predictions from the model on Testing data"
   ]
  },
  {
   "cell_type": "markdown",
   "metadata": {},
   "source": [
    "- Predictions from the model are performed with observations that the model has never seen before.\n",
    "- Observations were previously stored in the Testing dataset (X_test)"
   ]
  },
  {
   "cell_type": "code",
   "execution_count": 34,
   "metadata": {},
   "outputs": [
    {
     "data": {
      "text/plain": [
       "array([ 91100.58255782, 109297.20888234,  56622.76425873,  82481.12798305,\n",
       "        40341.57228416, 117916.66345711, 116958.94628213,  74819.39058325,\n",
       "       112170.36040726])"
      ]
     },
     "execution_count": 34,
     "metadata": {},
     "output_type": "execute_result"
    }
   ],
   "source": [
    "# Get the predictions from the model based of the Testing dataset\n",
    "y_pred = lm.predict(X_test)\n",
    "y_pred"
   ]
  },
  {
   "cell_type": "code",
   "execution_count": 35,
   "metadata": {},
   "outputs": [
    {
     "data": {
      "text/plain": [
       "Text(0.5, 1.0, 'Salary vs. Predicted Salary')"
      ]
     },
     "execution_count": 35,
     "metadata": {},
     "output_type": "execute_result"
    },
    {
     "data": {
      "image/png": "[encoded data removed]",
      "text/plain": [
       "<Figure size 864x576 with 1 Axes>"
      ]
     },
     "metadata": {
      "needs_background": "light"
     },
     "output_type": "display_data"
    }
   ],
   "source": [
    "# Set up of the graphic area size\n",
    "plt.figure(figsize=(12, 8))\n",
    "\n",
    "# Display (plot) and explore the comparison between the predicted output values (y_pred) and real output values (y_test)\n",
    "plt.scatter(y_test, y_pred, edgecolor='black')\n",
    "plt.xlabel(\"Salary\")\n",
    "plt.ylabel(\"Predicted Salary\")\n",
    "plt.title(\"Salary vs. Predicted Salary\")"
   ]
  },
  {
   "cell_type": "markdown",
   "metadata": {},
   "source": [
    "##### Conclusion:\n",
    "- Scatter plot of the real test output values vs. the predicted output values should create a linear line, but since the model does not fit 100%, the scatter plot is not creating a perfect straight line"
   ]
  },
  {
   "cell_type": "markdown",
   "metadata": {},
   "source": [
    "### 5.7 Evaluate the model on Testing data"
   ]
  },
  {
   "cell_type": "markdown",
   "metadata": {},
   "source": [
    "#### Linear Regression Evaluation metrics\n",
    "\n",
    "- The goal is to create the best fitted model i.e. to minimize the Linear Regression metrics (errors) (minimum cost)\t\t\n",
    "- Evaluation of the model:\t\n",
    "    1. Determine the best fitted Linear Regression equation (line) that will be used to make predictions\t\n",
    "    2. Minimize the Loss (Cost) Function\t\n",
    "- Loss (Cost) Function is the difference between actual output value (Yi) and predicted output value (Ŷi)\t\n",
    "- Loss (Cost) Functions for Linear Regression are:\t\n",
    "\n",
    "    - **Mean Absolute Error (MAE)**\n",
    "    $$\\frac 1n\\sum_{i=1}^n|y_i-\\hat{y}_i|$$\n",
    "    \n",
    "    - **Mean Squared Error (MSE)**\n",
    "    $$\\frac 1n\\sum_{i=1}^n(y_i-\\hat{y}_i)^2$$\n",
    "    \n",
    "    - **Root Mean Squared Error (RMSE)**\n",
    "    $$\\sqrt{\\frac 1n\\sum_{i=1}^n(y_i-\\hat{y}_i)^2}$$"
   ]
  },
  {
   "cell_type": "code",
   "execution_count": 36,
   "metadata": {},
   "outputs": [],
   "source": [
    "# Import metrics function from Scikit-Learn\n",
    "from sklearn import metrics"
   ]
  },
  {
   "cell_type": "code",
   "execution_count": 37,
   "metadata": {},
   "outputs": [
    {
     "name": "stdout",
     "output_type": "stream",
     "text": [
      "MAE: 3038.6823612518806\n"
     ]
    }
   ],
   "source": [
    "# MAE - Mean of the absolute value of the errors\n",
    "print('MAE:', metrics.mean_absolute_error(y_test, y_pred))"
   ]
  },
  {
   "cell_type": "code",
   "execution_count": 38,
   "metadata": {},
   "outputs": [
    {
     "name": "stdout",
     "output_type": "stream",
     "text": [
      "MSE: 17978409.49734415\n"
     ]
    }
   ],
   "source": [
    "# MSE - Mean of the squared errors\n",
    "print('MSE:', metrics.mean_squared_error(y_test, y_pred))"
   ]
  },
  {
   "cell_type": "code",
   "execution_count": 39,
   "metadata": {},
   "outputs": [
    {
     "name": "stdout",
     "output_type": "stream",
     "text": [
      "RMSE: 4240.095458517903\n"
     ]
    }
   ],
   "source": [
    "# RMSE - Square root of the mean of the squared errors\n",
    "print('RMSE:', np.sqrt(metrics.mean_squared_error(y_test, y_pred)))"
   ]
  },
  {
   "cell_type": "markdown",
   "metadata": {},
   "source": [
    "##### Conclusion:\n",
    "- As the RMSE value ≥ 5, the ability of the model to accurately predict the data is very poor"
   ]
  },
  {
   "cell_type": "markdown",
   "metadata": {},
   "source": [
    "## 6. Predict the label on new data"
   ]
  },
  {
   "cell_type": "code",
   "execution_count": 40,
   "metadata": {},
   "outputs": [],
   "source": [
    "# Random new example (2nd observation) with only features and dropped target label\n",
    "new_salary = [[2.0]]"
   ]
  },
  {
   "cell_type": "code",
   "execution_count": 41,
   "metadata": {},
   "outputs": [
    {
     "data": {
      "text/plain": [
       "array([45130.15815903])"
      ]
     },
     "execution_count": 41,
     "metadata": {},
     "output_type": "execute_result"
    }
   ],
   "source": [
    "# Predict the label of the new example\n",
    "lm.predict(new_salary)"
   ]
  },
  {
   "cell_type": "code",
   "execution_count": 42,
   "metadata": {},
   "outputs": [
    {
     "data": {
      "text/plain": [
       "43525.0"
      ]
     },
     "execution_count": 42,
     "metadata": {},
     "output_type": "execute_result"
    }
   ],
   "source": [
    "# True value of 2nd observation\n",
    "salary_df['Salary'].iloc[3]"
   ]
  },
  {
   "cell_type": "code",
   "execution_count": 43,
   "metadata": {},
   "outputs": [],
   "source": [
    "# Random new example (2nd observation) with only features and dropped target label\n",
    "new_salary = [[15.0]]"
   ]
  },
  {
   "cell_type": "code",
   "execution_count": 44,
   "metadata": {},
   "outputs": [
    {
     "data": {
      "text/plain": [
       "array([169633.39090574])"
      ]
     },
     "execution_count": 44,
     "metadata": {},
     "output_type": "execute_result"
    }
   ],
   "source": [
    "# Predict the label of the new example\n",
    "lm.predict(new_salary)"
   ]
  },
  {
   "cell_type": "code",
   "execution_count": null,
   "metadata": {},
   "outputs": [],
   "source": []
  }
 ],
 "metadata": {
  "kernelspec": {
   "display_name": "Python 3",
   "language": "python",
   "name": "python3"
  },
  "language_info": {
   "codemirror_mode": {
    "name": "ipython",
    "version": 3
   },
   "file_extension": ".py",
   "mimetype": "text/x-python",
   "name": "python",
   "nbconvert_exporter": "python",
   "pygments_lexer": "ipython3",
   "version": "3.7.3"
  }
 },
 "nbformat": 4,
 "nbformat_minor": 2
}
